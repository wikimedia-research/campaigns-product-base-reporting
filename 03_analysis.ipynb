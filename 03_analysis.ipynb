{
 "cells": [
  {
   "cell_type": "code",
   "execution_count": null,
   "id": "90d7a25a-16e5-4781-b21c-e7da1972aeeb",
   "metadata": {},
   "outputs": [],
   "source": [
    "import pandas as pd\n",
    "import datetime\n",
    "from datetime import datetime\n",
    "\n",
    "%store -r query_vars"
   ]
  },
  {
   "cell_type": "markdown",
   "id": "0260a072-3e45-4696-8191-52d2455fc926",
   "metadata": {},
   "source": [
    "# TODO deeper look at \n",
    "#'Number of deleted event pages'     and \n",
    "#'Number of disabled event registrations'"
   ]
  },
  {
   "cell_type": "code",
   "execution_count": null,
   "id": "33b8cf2a-e3e6-4d3b-a965-e37bf81f6a19",
   "metadata": {
    "tags": []
   },
   "outputs": [],
   "source": [
    "query_vars"
   ]
  },
  {
   "cell_type": "raw",
   "id": "88e0589c-f5e7-4a85-a1f9-fa0e3731d28d",
   "metadata": {},
   "source": [
    "df = pd.read_csv('output/handling/metrics.csv')\n",
    "editors = pd.read_csv('output/handling/editors.csv')"
   ]
  },
  {
   "cell_type": "code",
   "execution_count": null,
   "id": "c206d576-f00b-4be2-8776-53220899603d",
   "metadata": {},
   "outputs": [],
   "source": [
    "#https://pandas.pydata.org/pandas-docs/stable/reference/api/pandas.read_csv.html\n",
    "#pd.read_csv(file, sep='\\t', header=None, names=headers, dtype=dtypes, parse_dates=parse_dates)\n",
    "\n",
    "parse_dates_editors = ['cep_registered_at', 'cep_unregistered_at','last_activity_date','ac_date']#'gu_registration'\n",
    "parse_dates_df = ['event_last_edit','event_start_utc','event_end_utc','event_deleted_at','event_created_at']\n",
    "file = 'output/handling/metrics.csv'\n",
    "\n",
    "editors = pd.read_csv('output/handling/editors.csv',parse_dates=parse_dates_editors)\n",
    "#editors['cep_registered_at'] = pd.to_datetime(editors['cep_registered_at'], errors='coerce')\n",
    "#editors['cep_registered_at'] = pd.to_datetime(editors['cep_registered_at'], format = \"%Y%m%d%H%M%S\").dt.strftime(\"%Y%m%d%H\")\n",
    "\n",
    "df = pd.read_csv(file, parse_dates=parse_dates_df)"
   ]
  },
  {
   "cell_type": "raw",
   "id": "fff1fbe9-4492-4cb0-bd1e-db7d0a010650",
   "metadata": {},
   "source": [
    "# Load any previous results\n",
    "try:\n",
    "    old_metrics = (\n",
    "        pd.read_csv(FILENAME, sep=\"\\t\", parse_dates = [\"month\"])\n",
    "        .set_index(\"month\")\n",
    "    )\n",
    "except FileNotFoundError:\n",
    "    old_metrics = None\n",
    "    \n",
    "def prepare_query(filename):\n",
    "    return (\n",
    "        Path(filename)\n",
    "        .read_text()\n",
    "        .format(**date_params)\n",
    "    )"
   ]
  },
  {
   "cell_type": "markdown",
   "id": "60792ffd-7ae5-47be-9ce7-87c35b882b2f",
   "metadata": {},
   "source": [
    "## People"
   ]
  },
  {
   "cell_type": "code",
   "execution_count": null,
   "id": "a10b17ba-83b0-4ab9-add6-f4432fc7f151",
   "metadata": {
    "tags": []
   },
   "outputs": [],
   "source": [
    "#Number of organizers who only create 1 page total within period\n",
    "#number of unique usernames WHERE editors['editor_type']=='event_organizer' AND DISTINCT event_id ==1\n",
    "\n",
    "#groupby_organizers_event_organized_count\n",
    "o_group = editors.loc[(editors['editor_type']=='event_organizer')].groupby('username')\n",
    "groupby_organizers_event_organized_count = pd.Series.to_frame(o_group.apply(lambda x: x['event_id'].nunique())).reset_index() #todo work with the series object instead of transforming to df...if fewer lines of code: https://stackoverflow.com/questions/35690499/pandas-select-by-bigger-than-a-value"
   ]
  },
  {
   "cell_type": "code",
   "execution_count": null,
   "id": "e2e235f7-3156-459e-bcae-206dacb316ed",
   "metadata": {},
   "outputs": [],
   "source": [
    "#Number of organizers that enabled registration by experience \n",
    "organizers_x_exp = pd.Series.to_frame(editors.loc[(editors['editor_type']=='event_organizer')].groupby('user_tenure_bucket')['username'].nunique()).reset_index().rename(columns={'username': 'count'})"
   ]
  },
  {
   "cell_type": "code",
   "execution_count": null,
   "id": "f280e790-69e5-429d-b2b1-28d6c0d24fe2",
   "metadata": {},
   "outputs": [],
   "source": [
    "#unique participants on the tool\n",
    "#unique organizer count on tool events\n",
    "\n",
    "group = editors.groupby('editor_type')\n",
    "\n",
    "unique_users_by_role = group.apply(lambda x: x['user_id'].nunique()).reset_index(name=query_vars['metrics_month']).rename({'editor_type': 'metric'}, axis='index')\n",
    "\n",
    "#rename the column\n",
    "mapping = {unique_users_by_role.columns[0]:'metric'}\n",
    "unique_users_by_role = unique_users_by_role.rename(columns=mapping)\n",
    "unique_users_by_role"
   ]
  },
  {
   "cell_type": "markdown",
   "id": "84ee1993-f2e6-4798-b9aa-402f433f7035",
   "metadata": {},
   "source": [
    "# Analyze"
   ]
  },
  {
   "cell_type": "code",
   "execution_count": null,
   "id": "17fc093a-9334-4ddb-9505-cf3c2143eb51",
   "metadata": {},
   "outputs": [],
   "source": [
    "# Convert the string in query_vars['...'] to a datetime.date object\n",
    "query_vars['api_metrics_month_first_day_object'] = datetime.strptime(query_vars['api_metrics_month_first_day'], '%Y%m%d').date()\n",
    "query_vars['api_metrics_month_next_month_first_day_object'] = datetime.strptime(query_vars['api_metrics_month_next_month_first_day'], '%Y%m%d').date()"
   ]
  },
  {
   "cell_type": "code",
   "execution_count": null,
   "id": "c080e03b-5b30-4455-bb0e-aa7eed62d107",
   "metadata": {},
   "outputs": [],
   "source": [
    "calculations = {  \n",
    "    'Unique events'                          : df['event_page_title'].nunique(),\n",
    "    'New events this period'                 : df[df['event_created_at'].dt.date.between(pd.to_datetime(query_vars['utc_start']).date(), pd.to_datetime(query_vars['utc_end']).date())]['event_id'].nunique(),\n",
    "    'Number of deleted event pages'          : df[df['event_deleted_at'].notnull()]['event_page_title'].nunique(),\n",
    "    'Net events'                             : (df['event_page_title'].nunique())-(df[df['event_deleted_at'].notnull()]['event_page_title'].nunique()),\n",
    "    'Number of disabled event registrations' : df[df['event_deleted_at'].dt.date.between(query_vars['api_metrics_month_first_day_object'], query_vars['api_metrics_month_next_month_first_day_object'])]['event_id'].nunique(),\n",
    "    \n",
    "    'pageviews'                              : df['pageviews'].sum(),\n",
    "    \n",
    "    'Events_w_chatgroup links'               : df[df['event_chat_url_clean'].notnull()]['event_page_title'].nunique(),\n",
    "    'Event registrations with meeting URL'   : df[df['event_meeting_url'].notnull()]['event_page_title'].nunique(),\n",
    "    \n",
    "    \n",
    "    'Unique participants': editors.loc[(editors['editor_type']=='event_participant')]['username'].nunique(),\n",
    "    'Participants registered': editors[editors['cep_registered_at'].dt.date.between(pd.to_datetime(query_vars['utc_start']).date(), pd.to_datetime(query_vars['utc_end']).date())]['user_id'].nunique(),\n",
    "    'Number of new accounts created' : df['new_users_count'].sum(),\n",
    "    \n",
    "    'Number of participants who canceled a registration': editors[editors['cep_unregistered_at'].notnull()]['username'].nunique(),\n",
    "    \n",
    "    'Unique organizers': editors.loc[(editors['editor_type']=='event_organizer')]['username'].nunique(),\n",
    "    'Number of organizers who only create 1 page total within period': len(groupby_organizers_event_organized_count[groupby_organizers_event_organized_count[0] == 1 ]),\n",
    "    '1_to_3 years organizers': organizers_x_exp['count'][0],\n",
    "    '3_to_10 years organizers': organizers_x_exp['count'][1],\n",
    "    '10+ years organizers': organizers_x_exp['count'][2]\n",
    "    \n",
    "    }\n",
    "\n",
    "\n",
    "metrics_df = pd.DataFrame.from_dict(calculations, orient='index', columns=[query_vars['metrics_month']])\n",
    "\n",
    "#rename index\n",
    "metrics_df.index.names = ['metric']\n",
    "metrics_df = metrics_df.reset_index()"
   ]
  },
  {
   "cell_type": "code",
   "execution_count": null,
   "id": "95c1c62a-2968-49ed-b8e7-66babacb5592",
   "metadata": {},
   "outputs": [],
   "source": [
    "#metrics_df.pivot(columns='metric', values=)\n",
    "\n",
    "metrics_df.set_index('metric',inplace=True)\n",
    "final = metrics_df.transpose().reset_index()#.rename(columns={'metric':'metric_month'})"
   ]
  },
  {
   "cell_type": "code",
   "execution_count": null,
   "id": "aa0a8ee5-2566-4cbe-b72c-3853f3afb934",
   "metadata": {},
   "outputs": [],
   "source": [
    "final.to_csv('output/campaigns_metrics.csv', index=True)"
   ]
  },
  {
   "cell_type": "markdown",
   "id": "42e896e1-fb63-49db-a4c8-e3bd68a77357",
   "metadata": {},
   "source": [
    "## TODO By region"
   ]
  },
  {
   "cell_type": "markdown",
   "id": "f0a5677c-2126-4329-9717-14d5160c667f",
   "metadata": {},
   "source": [
    "## Other"
   ]
  },
  {
   "cell_type": "raw",
   "id": "02eaad38-d398-4d4d-b50d-b1c9661d1e68",
   "metadata": {},
   "source": [
    "\n",
    "Participant table: , average events by participant, cancels [geo]\n",
    "Organizers table: unique organizers, average events by organizers, cancels [geo]\n"
   ]
  },
  {
   "cell_type": "raw",
   "id": "56004897-2d64-4ea9-a1d1-ab55600c6af2",
   "metadata": {
    "tags": []
   },
   "source": [
    "# campaign_events.event_status, --Status of the event (\"open\", \"closed\"...)\n",
    "event_status = df.groupby('event_status')['event_id'].nunique().reset_index().rename(columns={'event_status':'metric', 'event_id':'value'})\n",
    "event_status['metric'] = event_status['metric'].map({\n",
    "                                1: 'status 1_events', \n",
    "                                2: 'status 2_events',\n",
    "                                3: 'status 3_events',\n",
    "                                4: 'status 4_events',\n",
    "                                                    })"
   ]
  },
  {
   "cell_type": "raw",
   "id": "9e7208e0-ce53-4c62-b537-2bdf3f5dfa11",
   "metadata": {
    "tags": []
   },
   "source": [
    "\n",
    "#campaign_events.event_type, -- options: generic, \n",
    "event_meeting_type = event_roster.groupby('event_meeting_type')['event_id'].nunique().reset_index().rename(columns={'event_meeting_type':'metric', 'event_id':'value'})\n",
    "event_meeting_type['metric'] = event_meeting_type['metric'].map({1: 'event_meeting_type_1_events', \n",
    "                               2: 'event_meeting_type_2_events',\n",
    "                               3: 'event_meeting_type_3_events',\n",
    "                               4: 'event_meeting_type_4_events',\n",
    "                               5: 'event_meeting_type_5_events',                                  \n",
    "                                                                })"
   ]
  }
 ],
 "metadata": {
  "kernelspec": {
   "display_name": "Python 3 (ipykernel)",
   "language": "python",
   "name": "python3"
  },
  "language_info": {
   "codemirror_mode": {
    "name": "ipython",
    "version": 3
   },
   "file_extension": ".py",
   "mimetype": "text/x-python",
   "name": "python",
   "nbconvert_exporter": "python",
   "pygments_lexer": "ipython3",
   "version": "3.10.8"
  }
 },
 "nbformat": 4,
 "nbformat_minor": 5
}
